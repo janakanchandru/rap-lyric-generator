{
  "nbformat": 4,
  "nbformat_minor": 0,
  "metadata": {
    "colab": {
      "name": "effect-of-embedding-dimension.ipynb",
      "provenance": [],
      "collapsed_sections": [],
      "toc_visible": true,
      "machine_shape": "hm",
      "authorship_tag": "ABX9TyOEpCDoifMpzlfslhYDmitF",
      "include_colab_link": true
    },
    "kernelspec": {
      "name": "python3",
      "display_name": "Python 3"
    }
  },
  "cells": [
    {
      "cell_type": "markdown",
      "metadata": {
        "id": "view-in-github",
        "colab_type": "text"
      },
      "source": [
        "<a href=\"https://colab.research.google.com/github/janakanchandru/rap-lyric-generator/blob/master/effect_of_embedding_dimension.ipynb\" target=\"_parent\"><img src=\"https://colab.research.google.com/assets/colab-badge.svg\" alt=\"Open In Colab\"/></a>"
      ]
    },
    {
      "cell_type": "markdown",
      "metadata": {
        "id": "WxnUmV_2THoy",
        "colab_type": "text"
      },
      "source": [
        "# Rap Lyrics Generator\n",
        "## This file is for seeing how embedding dimensions affects the performance of the model\n",
        "Imports:"
      ]
    },
    {
      "cell_type": "code",
      "metadata": {
        "id": "0GmNQRnIE60X",
        "colab_type": "code",
        "colab": {}
      },
      "source": [
        "import pandas as pd\n",
        "import numpy as np\n",
        "import os\n",
        "import tensorflow as tf\n",
        "from random import shuffle\n",
        "from tqdm import tqdm\n",
        "import math\n",
        "\n",
        "os.environ['TF_CPP_MIN_LOG_LEVEL'] = '3'  # or any {'0', '1', '2'}, to remove tf console output"
      ],
      "execution_count": 0,
      "outputs": []
    },
    {
      "cell_type": "markdown",
      "metadata": {
        "id": "NH2PEgLSVIdw",
        "colab_type": "text"
      },
      "source": [
        "### Helper Functions"
      ]
    },
    {
      "cell_type": "markdown",
      "metadata": {
        "id": "PbvhV5kAS49z",
        "colab_type": "text"
      },
      "source": [
        "Mappings used to split dataset"
      ]
    },
    {
      "cell_type": "code",
      "metadata": {
        "id": "kIsLws7GPzWO",
        "colab_type": "code",
        "colab": {}
      },
      "source": [
        "def split_input_target(chunk):\n",
        "    input_seq = chunk[:-1]\n",
        "    target = chunk[-1]\n",
        "    return input_seq, target\n",
        "\n",
        "def make_target_categorical(X, y):\n",
        "    vocabSet_size = 7016 # unfortunatley this needs to be hardcoded, can't find a dynamic way\n",
        "    y = tf.one_hot(y, vocabSet_size)\n",
        "    return X, y"
      ],
      "execution_count": 0,
      "outputs": []
    },
    {
      "cell_type": "markdown",
      "metadata": {
        "id": "oAqbBPGPTV-E",
        "colab_type": "text"
      },
      "source": [
        "Function to convert encoded examples to words"
      ]
    },
    {
      "cell_type": "code",
      "metadata": {
        "id": "wUejv8HLTTGY",
        "colab_type": "code",
        "colab": {}
      },
      "source": [
        "def convert_to_word(X, y_idx, idx_not_in_vocabSet, idx2word):\n",
        "    word_X = ''\n",
        "    word_y = ''\n",
        "\n",
        "    for idx in X:\n",
        "        if idx == idx_not_in_vocabSet:\n",
        "            word_X += 'n/a '\n",
        "        else:\n",
        "            word_X += idx2word[idx] + ' '\n",
        "\n",
        "    if y_idx == idx_not_in_vocabSet:\n",
        "        word_y = 'n/a (word not in vocabSet)'\n",
        "    else:\n",
        "        word_y = idx2word[y_idx]\n",
        "\n",
        "    return word_X, word_y"
      ],
      "execution_count": 0,
      "outputs": []
    },
    {
      "cell_type": "markdown",
      "metadata": {
        "id": "i8feb7YVTeiI",
        "colab_type": "text"
      },
      "source": [
        "Function to process the data and create a TF dataset object for training"
      ]
    },
    {
      "cell_type": "code",
      "metadata": {
        "id": "EDSYb3dxGVIM",
        "colab_type": "code",
        "colab": {}
      },
      "source": [
        "def preprocess(encoded_train_set_filename, vocab_set_filename, word2idx_filename, idx2word_filename, \n",
        "                seq_length, batch_size, num_examples_to_use=0):\n",
        "    # get training data\n",
        "    songData = []\n",
        "    with open(encoded_train_set_filename, 'r') as f:\n",
        "        for song in f.read().splitlines():\n",
        "            song_split = song.split()\n",
        "            add = []\n",
        "            for num in song_split:\n",
        "                add.append(int(num))\n",
        "            songData.append(add)\n",
        "\n",
        "    # load vocabSet\n",
        "    vocabSet = []\n",
        "    with open(vocab_set_filename, 'r') as f:\n",
        "        vocabSet = f.read().splitlines()\n",
        "\n",
        "    vocabSet_size = len(vocabSet) + 1\n",
        "    idx_not_in_vocabSet = len(vocabSet)\n",
        "\n",
        "    # load lookup tables\n",
        "    word2idx = np.load('data/word2idx.npy', allow_pickle=True).item()\n",
        "    idx2word = np.load('data/idx2word.npy', allow_pickle=True)\n",
        "\n",
        "    # split lyrics into segments of len = seq_length\n",
        "    print('Splitting songs into sequences of seq_length...')\n",
        "    sequences = []\n",
        "    for song in tqdm(songData):\n",
        "        for i in range(seq_length+1, len(song)):\n",
        "            sequences.append(song[i - (seq_length+1) : i])\n",
        "    if num_examples_to_use:\n",
        "        sequences = sequences[:num_examples_to_use]\n",
        "\n",
        "    train_idx = math.ceil(num_examples_to_use * 0.75)\n",
        "    train_sequences = sequences[:train_idx]\n",
        "    val_sequences = sequences[train_idx:]\n",
        "\n",
        "    print('Test set contains {} sequences'.format(len(train_sequences)))\n",
        "    print('Validation set contains {} sequences'.format(len(val_sequences)))\n",
        "    \n",
        "    # create TF dataset, allows for large datasets without memory issues\n",
        "    print('\\nCreating TF dataset object out of sequences, this may take awhile...')\n",
        "    print('MAKE SURE you input the correct vocabSet size in make_target_categorical(): ', vocabSet_size)\n",
        "    sequences_train_dataset = tf.data.Dataset.from_tensor_slices(train_sequences)\n",
        "    sequences_val_dataset = tf.data.Dataset.from_tensor_slices(val_sequences)\n",
        "\n",
        "    train_dataset = sequences_train_dataset.map(split_input_target)\n",
        "    train_dataset = train_dataset.map(make_target_categorical)\n",
        "\n",
        "    val_dataset = sequences_val_dataset.map(split_input_target)\n",
        "    val_dataset = val_dataset.map(make_target_categorical)\n",
        "\n",
        "    buffer_size = 10000\n",
        "    train_dataset = train_dataset.shuffle(buffer_size).batch(batch_size, drop_remainder=True)\n",
        "    val_dataset = val_dataset.shuffle(buffer_size).batch(batch_size, drop_remainder=True)\n",
        "\n",
        "    print('\\nTotal # of training examples: ', len(sequences))\n",
        "\n",
        "    print('\\nDataset created')\n",
        "\n",
        "    return vocabSet, word2idx, idx2word, train_dataset, val_dataset"
      ],
      "execution_count": 0,
      "outputs": []
    },
    {
      "cell_type": "markdown",
      "metadata": {
        "id": "wduP97IIT1ZP",
        "colab_type": "text"
      },
      "source": [
        "## Model Class"
      ]
    },
    {
      "cell_type": "code",
      "metadata": {
        "id": "AS3xx9lXGYQj",
        "colab_type": "code",
        "colab": {}
      },
      "source": [
        "import tensorflow as tf\n",
        "from tensorflow.keras.layers import Embedding\n",
        "from tensorflow.keras.layers import LSTM\n",
        "from tensorflow.keras.layers import Dense\n",
        "\n",
        "class ModelV1:\n",
        "    def __init__(self):\n",
        "        self.SEQ_LENGTH = 100\n",
        "        self.BATCH_SIZE = 128\n",
        "        self.EMBEDDING_DIM = 256\n",
        "        self.RNN_UNITS = 512\n",
        "\n",
        "    def build_model(self, vocab_size, embedding_dims):\n",
        "        self.EMBEDDING_DIM = embedding_dims\n",
        "\n",
        "        model = tf.keras.Sequential([\n",
        "            Embedding(vocab_size, self.EMBEDDING_DIM, input_length=self.SEQ_LENGTH),\n",
        "\n",
        "            tf.keras.layers.LSTM(self.RNN_UNITS, \n",
        "                                return_sequences=False,\n",
        "                                stateful=False,\n",
        "                                recurrent_initializer='glorot_uniform'),\n",
        "\n",
        "            tf.keras.layers.Dense(vocab_size, activation='softmax')\n",
        "        ])\n",
        "        model.summary()\n",
        "\n",
        "        return model"
      ],
      "execution_count": 0,
      "outputs": []
    },
    {
      "cell_type": "markdown",
      "metadata": {
        "id": "dmKhuwhhVzk9",
        "colab_type": "text"
      },
      "source": [
        "## Training"
      ]
    },
    {
      "cell_type": "code",
      "metadata": {
        "id": "uKLJDppnGdgL",
        "colab_type": "code",
        "colab": {}
      },
      "source": [
        "# Constants\n",
        "EPOCHS = 30\n",
        "NUM_EXAMPLES_TO_USE = 200000 # if you want to limit the number of examples used for training\n",
        "TRAIN_SET_FILENAME = 'data/encoded_train_val_set.txt'\n",
        "VOCABSET_FILENAME = 'data/vocabSet.txt'\n",
        "WORD2IDX_FILENAME = 'data/word2idx.npy'\n",
        "IDX2WORD_FILENAME = 'data/idx2word.npy'\n",
        "\n",
        "# prepare checkpoint directory\n",
        "checkpoint_dir = 'results'\n",
        "checkpoint_prefix = os.path.join(checkpoint_dir, \"ckpt_{epoch}\")\n",
        "checkpoint_callback=tf.keras.callbacks.ModelCheckpoint(\n",
        "    filepath=checkpoint_prefix,\n",
        "    save_weights_only=True)"
      ],
      "execution_count": 0,
      "outputs": []
    },
    {
      "cell_type": "code",
      "metadata": {
        "id": "tvwUfELmV5ir",
        "colab_type": "code",
        "colab": {}
      },
      "source": [
        "# initate model\n",
        "modelv1 = ModelV1()\n",
        "params = [modelv1.EMBEDDING_DIM, modelv1.RNN_UNITS, modelv1.SEQ_LENGTH, modelv1.BATCH_SIZE]"
      ],
      "execution_count": 0,
      "outputs": []
    },
    {
      "cell_type": "code",
      "metadata": {
        "id": "hH3NNY2dWEI1",
        "colab_type": "code",
        "outputId": "8bbb6020-1ac3-4121-c11b-8441874d5be1",
        "colab": {
          "base_uri": "https://localhost:8080/",
          "height": 208
        }
      },
      "source": [
        "# prepare data\n",
        "vocabSet, word2idx, idx2word, train_dataset, val_dataset = preprocess(TRAIN_SET_FILENAME, \n",
        "                                                                      VOCABSET_FILENAME,\n",
        "                                                                      WORD2IDX_FILENAME,\n",
        "                                                                      IDX2WORD_FILENAME,\n",
        "                                                                      params[2], \n",
        "                                                                      params[3],\n",
        "                                                                      NUM_EXAMPLES_TO_USE)"
      ],
      "execution_count": 0,
      "outputs": [
        {
          "output_type": "stream",
          "text": [
            "  1%|          | 24/2759 [00:00<00:17, 153.42it/s]"
          ],
          "name": "stderr"
        },
        {
          "output_type": "stream",
          "text": [
            "Splitting songs into sequences of seq_length...\n"
          ],
          "name": "stdout"
        },
        {
          "output_type": "stream",
          "text": [
            "100%|██████████| 2759/2759 [00:05<00:00, 474.69it/s]\n"
          ],
          "name": "stderr"
        },
        {
          "output_type": "stream",
          "text": [
            "Test set contains 150000 sequences\n",
            "Validation set contains 50000 sequences\n",
            "\n",
            "Creating TF dataset object out of sequences, this may take awhile...\n",
            "MAKE SURE you input the correct vocabSet size in make_target_categorical():  7016\n",
            "\n",
            "Total # of training examples:  200000\n",
            "\n",
            "Dataset created\n"
          ],
          "name": "stdout"
        }
      ]
    },
    {
      "cell_type": "code",
      "metadata": {
        "id": "GLsbLooiWJU8",
        "colab_type": "code",
        "outputId": "1723ca64-8171-4de5-e786-9db1d4921d1e",
        "colab": {
          "base_uri": "https://localhost:8080/",
          "height": 1000
        }
      },
      "source": [
        "# build and train models\n",
        "embedding_dims = [64, 128, 256, 512, 1024]\n",
        "val_accuracies = []\n",
        "val_entropies = []\n",
        "val_acc_metric = tf.keras.metrics.CategoricalAccuracy()\n",
        "val_entropy_metric = tf.keras.metrics.CategoricalCrossentropy()\n",
        "\n",
        "for dims in embedding_dims:\n",
        "  model = modelv1.build_model(len(vocabSet)+1, dims)\n",
        "  model.compile(loss='categorical_crossentropy', optimizer='adam', metrics=['accuracy', 'crossentropy'])\n",
        "  history = model.fit(train_dataset, batch_size=params[3], epochs=EPOCHS, callbacks=[checkpoint_callback])\n",
        "\n",
        "  for x_batch_val, y_batch_val in val_dataset:\n",
        "    val_logits = model(x_batch_val)\n",
        "    val_acc_metric(y_batch_val, val_logits)\n",
        "    val_entropy_metric(y_batch_val, val_logits)\n",
        "\n",
        "  val_accuracies.append(val_acc_metric.result().numpy())\n",
        "  val_entropies.append(val_entropy_metric.result().numpy())\n",
        "\n",
        "  val_acc_metric.reset_states()\n",
        "  val_entropy_metric.reset_states()\n"
      ],
      "execution_count": 0,
      "outputs": [
        {
          "output_type": "stream",
          "text": [
            "Model: \"sequential\"\n",
            "_________________________________________________________________\n",
            "Layer (type)                 Output Shape              Param #   \n",
            "=================================================================\n",
            "embedding (Embedding)        (None, 100, 64)           449024    \n",
            "_________________________________________________________________\n",
            "lstm (LSTM)                  (None, 512)               1181696   \n",
            "_________________________________________________________________\n",
            "dense (Dense)                (None, 7016)              3599208   \n",
            "=================================================================\n",
            "Total params: 5,229,928\n",
            "Trainable params: 5,229,928\n",
            "Non-trainable params: 0\n",
            "_________________________________________________________________\n",
            "Epoch 1/30\n",
            "1171/1171 [==============================] - 55s 47ms/step - loss: 5.7387 - accuracy: 0.1348 - crossentropy: 5.7387\n",
            "Epoch 2/30\n",
            "1171/1171 [==============================] - 56s 48ms/step - loss: 5.2462 - accuracy: 0.1655 - crossentropy: 5.2462\n",
            "Epoch 3/30\n",
            "1171/1171 [==============================] - 56s 48ms/step - loss: 4.9620 - accuracy: 0.1816 - crossentropy: 4.9620\n",
            "Epoch 4/30\n",
            "1171/1171 [==============================] - 56s 48ms/step - loss: 4.6966 - accuracy: 0.1987 - crossentropy: 4.6966\n",
            "Epoch 5/30\n",
            "1171/1171 [==============================] - 56s 48ms/step - loss: 4.4209 - accuracy: 0.2196 - crossentropy: 4.4209\n",
            "Epoch 6/30\n",
            "1171/1171 [==============================] - 56s 48ms/step - loss: 4.1339 - accuracy: 0.2437 - crossentropy: 4.1339\n",
            "Epoch 7/30\n",
            "1171/1171 [==============================] - 56s 48ms/step - loss: 3.8430 - accuracy: 0.2690 - crossentropy: 3.8430\n",
            "Epoch 8/30\n",
            "1171/1171 [==============================] - 57s 48ms/step - loss: 3.5534 - accuracy: 0.2997 - crossentropy: 3.5534\n",
            "Epoch 9/30\n",
            "1171/1171 [==============================] - 57s 49ms/step - loss: 3.2876 - accuracy: 0.3354 - crossentropy: 3.2876\n",
            "Epoch 10/30\n",
            "1171/1171 [==============================] - 56s 48ms/step - loss: 3.0507 - accuracy: 0.3691 - crossentropy: 3.0507\n",
            "Epoch 11/30\n",
            "1171/1171 [==============================] - 56s 48ms/step - loss: 2.8337 - accuracy: 0.4039 - crossentropy: 2.8337\n",
            "Epoch 12/30\n",
            "1171/1171 [==============================] - 56s 48ms/step - loss: 2.6382 - accuracy: 0.4364 - crossentropy: 2.6382\n",
            "Epoch 13/30\n",
            "1171/1171 [==============================] - 56s 48ms/step - loss: 2.4590 - accuracy: 0.4675 - crossentropy: 2.4590\n",
            "Epoch 14/30\n",
            "1171/1171 [==============================] - 55s 47ms/step - loss: 2.2939 - accuracy: 0.4965 - crossentropy: 2.2939\n",
            "Epoch 15/30\n",
            "1171/1171 [==============================] - 56s 48ms/step - loss: 2.1407 - accuracy: 0.5258 - crossentropy: 2.1407\n",
            "Epoch 16/30\n",
            "1171/1171 [==============================] - 56s 47ms/step - loss: 1.9989 - accuracy: 0.5521 - crossentropy: 1.9989\n",
            "Epoch 17/30\n",
            "1171/1171 [==============================] - 55s 47ms/step - loss: 1.8770 - accuracy: 0.5763 - crossentropy: 1.8770\n",
            "Epoch 18/30\n",
            "1171/1171 [==============================] - 55s 47ms/step - loss: 1.7448 - accuracy: 0.6036 - crossentropy: 1.7448\n",
            "Epoch 19/30\n",
            "1171/1171 [==============================] - 56s 48ms/step - loss: 1.6282 - accuracy: 0.6269 - crossentropy: 1.6282\n",
            "Epoch 20/30\n",
            "1171/1171 [==============================] - 55s 47ms/step - loss: 1.5199 - accuracy: 0.6494 - crossentropy: 1.5199\n",
            "Epoch 21/30\n",
            "1171/1171 [==============================] - 56s 48ms/step - loss: 1.4189 - accuracy: 0.6722 - crossentropy: 1.4189\n",
            "Epoch 22/30\n",
            "1171/1171 [==============================] - 56s 48ms/step - loss: 1.3255 - accuracy: 0.6923 - crossentropy: 1.3255\n",
            "Epoch 23/30\n",
            "1171/1171 [==============================] - 57s 48ms/step - loss: 1.2331 - accuracy: 0.7128 - crossentropy: 1.2331\n",
            "Epoch 24/30\n",
            "1171/1171 [==============================] - 57s 49ms/step - loss: 1.1493 - accuracy: 0.7323 - crossentropy: 1.1493\n",
            "Epoch 25/30\n",
            "1171/1171 [==============================] - 56s 47ms/step - loss: 1.0713 - accuracy: 0.7487 - crossentropy: 1.0713\n",
            "Epoch 26/30\n",
            "1171/1171 [==============================] - 56s 48ms/step - loss: 1.0031 - accuracy: 0.7653 - crossentropy: 1.0031\n",
            "Epoch 27/30\n",
            "1171/1171 [==============================] - 55s 47ms/step - loss: 0.9292 - accuracy: 0.7822 - crossentropy: 0.9292\n",
            "Epoch 28/30\n",
            "1171/1171 [==============================] - 56s 47ms/step - loss: 0.8625 - accuracy: 0.7981 - crossentropy: 0.8625\n",
            "Epoch 29/30\n",
            "1171/1171 [==============================] - 56s 47ms/step - loss: 0.8045 - accuracy: 0.8124 - crossentropy: 0.8045\n",
            "Epoch 30/30\n",
            "1171/1171 [==============================] - 56s 47ms/step - loss: 0.7488 - accuracy: 0.8263 - crossentropy: 0.7488\n",
            "Model: \"sequential_1\"\n",
            "_________________________________________________________________\n",
            "Layer (type)                 Output Shape              Param #   \n",
            "=================================================================\n",
            "embedding_1 (Embedding)      (None, 100, 128)          898048    \n",
            "_________________________________________________________________\n",
            "lstm_1 (LSTM)                (None, 512)               1312768   \n",
            "_________________________________________________________________\n",
            "dense_1 (Dense)              (None, 7016)              3599208   \n",
            "=================================================================\n",
            "Total params: 5,810,024\n",
            "Trainable params: 5,810,024\n",
            "Non-trainable params: 0\n",
            "_________________________________________________________________\n",
            "Epoch 1/30\n",
            "1171/1171 [==============================] - 61s 52ms/step - loss: 5.6221 - accuracy: 0.1462 - crossentropy: 5.6221\n",
            "Epoch 2/30\n",
            "1171/1171 [==============================] - 61s 52ms/step - loss: 5.0155 - accuracy: 0.1817 - crossentropy: 5.0155\n",
            "Epoch 3/30\n",
            "1171/1171 [==============================] - 61s 52ms/step - loss: 4.6258 - accuracy: 0.2124 - crossentropy: 4.6258\n",
            "Epoch 4/30\n",
            "1171/1171 [==============================] - 62s 53ms/step - loss: 4.2281 - accuracy: 0.2489 - crossentropy: 4.2281\n",
            "Epoch 5/30\n",
            "1171/1171 [==============================] - 62s 53ms/step - loss: 3.8499 - accuracy: 0.2840 - crossentropy: 3.8499\n",
            "Epoch 6/30\n",
            "1171/1171 [==============================] - 62s 53ms/step - loss: 3.4895 - accuracy: 0.3203 - crossentropy: 3.4895\n",
            "Epoch 7/30\n",
            "1171/1171 [==============================] - 62s 53ms/step - loss: 3.1527 - accuracy: 0.3627 - crossentropy: 3.1527\n",
            "Epoch 8/30\n",
            "1171/1171 [==============================] - 61s 52ms/step - loss: 2.8408 - accuracy: 0.4081 - crossentropy: 2.8408\n",
            "Epoch 9/30\n",
            "1171/1171 [==============================] - 61s 52ms/step - loss: 2.5581 - accuracy: 0.4547 - crossentropy: 2.5581\n",
            "Epoch 10/30\n",
            "1171/1171 [==============================] - 62s 53ms/step - loss: 2.3071 - accuracy: 0.4988 - crossentropy: 2.3071\n",
            "Epoch 11/30\n",
            "1171/1171 [==============================] - 62s 53ms/step - loss: 2.0840 - accuracy: 0.5397 - crossentropy: 2.0840\n",
            "Epoch 12/30\n",
            "1171/1171 [==============================] - 62s 53ms/step - loss: 1.8824 - accuracy: 0.5786 - crossentropy: 1.8824\n",
            "Epoch 13/30\n",
            "1171/1171 [==============================] - 62s 53ms/step - loss: 1.6963 - accuracy: 0.6163 - crossentropy: 1.6963\n",
            "Epoch 14/30\n",
            "1171/1171 [==============================] - 62s 53ms/step - loss: 1.5264 - accuracy: 0.6520 - crossentropy: 1.5264\n",
            "Epoch 15/30\n",
            "1171/1171 [==============================] - 62s 53ms/step - loss: 1.3733 - accuracy: 0.6845 - crossentropy: 1.3733\n",
            "Epoch 16/30\n",
            "1171/1171 [==============================] - 62s 53ms/step - loss: 1.2341 - accuracy: 0.7153 - crossentropy: 1.2341\n",
            "Epoch 17/30\n",
            "1171/1171 [==============================] - 62s 53ms/step - loss: 1.1037 - accuracy: 0.7459 - crossentropy: 1.1037\n",
            "Epoch 18/30\n",
            "1171/1171 [==============================] - 62s 53ms/step - loss: 0.9888 - accuracy: 0.7729 - crossentropy: 0.9888\n",
            "Epoch 19/30\n",
            "1171/1171 [==============================] - 62s 53ms/step - loss: 0.8828 - accuracy: 0.7976 - crossentropy: 0.8828\n",
            "Epoch 20/30\n",
            "1171/1171 [==============================] - 62s 53ms/step - loss: 0.7853 - accuracy: 0.8209 - crossentropy: 0.7853\n",
            "Epoch 21/30\n",
            "1171/1171 [==============================] - 62s 53ms/step - loss: 0.7000 - accuracy: 0.8417 - crossentropy: 0.7000\n",
            "Epoch 22/30\n",
            "1171/1171 [==============================] - 62s 53ms/step - loss: 0.6251 - accuracy: 0.8611 - crossentropy: 0.6251\n",
            "Epoch 23/30\n",
            "1171/1171 [==============================] - 61s 52ms/step - loss: 0.5563 - accuracy: 0.8768 - crossentropy: 0.5563\n",
            "Epoch 24/30\n",
            "1171/1171 [==============================] - 61s 52ms/step - loss: 0.4974 - accuracy: 0.8905 - crossentropy: 0.4974\n",
            "Epoch 25/30\n",
            "1171/1171 [==============================] - 61s 52ms/step - loss: 0.4503 - accuracy: 0.9017 - crossentropy: 0.4503\n",
            "Epoch 26/30\n",
            "1171/1171 [==============================] - 61s 52ms/step - loss: 0.4081 - accuracy: 0.9122 - crossentropy: 0.4081\n",
            "Epoch 27/30\n",
            "1171/1171 [==============================] - 61s 52ms/step - loss: 0.3690 - accuracy: 0.9218 - crossentropy: 0.3690\n",
            "Epoch 28/30\n",
            "1171/1171 [==============================] - 62s 53ms/step - loss: 0.3453 - accuracy: 0.9260 - crossentropy: 0.3453\n",
            "Epoch 29/30\n",
            "1171/1171 [==============================] - 62s 53ms/step - loss: 0.3095 - accuracy: 0.9337 - crossentropy: 0.3095\n",
            "Epoch 30/30\n",
            "1171/1171 [==============================] - 63s 54ms/step - loss: 0.2886 - accuracy: 0.9390 - crossentropy: 0.2886\n",
            "Model: \"sequential_2\"\n",
            "_________________________________________________________________\n",
            "Layer (type)                 Output Shape              Param #   \n",
            "=================================================================\n",
            "embedding_2 (Embedding)      (None, 100, 256)          1796096   \n",
            "_________________________________________________________________\n",
            "lstm_2 (LSTM)                (None, 512)               1574912   \n",
            "_________________________________________________________________\n",
            "dense_2 (Dense)              (None, 7016)              3599208   \n",
            "=================================================================\n",
            "Total params: 6,970,216\n",
            "Trainable params: 6,970,216\n",
            "Non-trainable params: 0\n",
            "_________________________________________________________________\n",
            "Epoch 1/30\n",
            "1171/1171 [==============================] - 77s 65ms/step - loss: 5.5723 - accuracy: 0.1525 - crossentropy: 5.5723\n",
            "Epoch 2/30\n",
            "1171/1171 [==============================] - 76s 65ms/step - loss: 4.9337 - accuracy: 0.1911 - crossentropy: 4.9337\n",
            "Epoch 3/30\n",
            "1171/1171 [==============================] - 77s 66ms/step - loss: 4.4994 - accuracy: 0.2270 - crossentropy: 4.4994\n",
            "Epoch 4/30\n",
            "1171/1171 [==============================] - 76s 65ms/step - loss: 4.0771 - accuracy: 0.2667 - crossentropy: 4.0771\n",
            "Epoch 5/30\n",
            "1171/1171 [==============================] - 76s 65ms/step - loss: 3.6701 - accuracy: 0.3054 - crossentropy: 3.6701\n",
            "Epoch 6/30\n",
            "1171/1171 [==============================] - 76s 65ms/step - loss: 3.2889 - accuracy: 0.3493 - crossentropy: 3.2889\n",
            "Epoch 7/30\n",
            "1171/1171 [==============================] - 76s 65ms/step - loss: 2.9402 - accuracy: 0.3966 - crossentropy: 2.9402\n",
            "Epoch 8/30\n",
            "1171/1171 [==============================] - 76s 65ms/step - loss: 2.6172 - accuracy: 0.4474 - crossentropy: 2.6172\n",
            "Epoch 9/30\n",
            "1171/1171 [==============================] - 75s 64ms/step - loss: 2.3282 - accuracy: 0.4979 - crossentropy: 2.3282\n",
            "Epoch 10/30\n",
            "1171/1171 [==============================] - 75s 64ms/step - loss: 2.0701 - accuracy: 0.5459 - crossentropy: 2.0701\n",
            "Epoch 11/30\n",
            "1171/1171 [==============================] - 76s 65ms/step - loss: 1.8377 - accuracy: 0.5920 - crossentropy: 1.8377\n",
            "Epoch 12/30\n",
            "1171/1171 [==============================] - 75s 64ms/step - loss: 1.6249 - accuracy: 0.6345 - crossentropy: 1.6249\n",
            "Epoch 13/30\n",
            "1171/1171 [==============================] - 75s 64ms/step - loss: 1.4311 - accuracy: 0.6776 - crossentropy: 1.4311\n",
            "Epoch 14/30\n",
            "1171/1171 [==============================] - 75s 64ms/step - loss: 1.2568 - accuracy: 0.7146 - crossentropy: 1.2568\n",
            "Epoch 15/30\n",
            "1171/1171 [==============================] - 74s 64ms/step - loss: 1.0975 - accuracy: 0.7518 - crossentropy: 1.0975\n",
            "Epoch 16/30\n",
            "1171/1171 [==============================] - 75s 64ms/step - loss: 0.9527 - accuracy: 0.7866 - crossentropy: 0.9527\n",
            "Epoch 17/30\n",
            "1171/1171 [==============================] - 76s 65ms/step - loss: 0.8259 - accuracy: 0.8156 - crossentropy: 0.8259\n",
            "Epoch 18/30\n",
            "1171/1171 [==============================] - 75s 64ms/step - loss: 0.7103 - accuracy: 0.8451 - crossentropy: 0.7103\n",
            "Epoch 19/30\n",
            "1171/1171 [==============================] - 75s 64ms/step - loss: 0.6094 - accuracy: 0.8688 - crossentropy: 0.6094\n",
            "Epoch 20/30\n",
            "1171/1171 [==============================] - 76s 65ms/step - loss: 0.5206 - accuracy: 0.8905 - crossentropy: 0.5206\n",
            "Epoch 21/30\n",
            "1171/1171 [==============================] - 75s 64ms/step - loss: 0.4442 - accuracy: 0.9098 - crossentropy: 0.4442\n",
            "Epoch 22/30\n",
            "1171/1171 [==============================] - 76s 65ms/step - loss: 0.3850 - accuracy: 0.9221 - crossentropy: 0.3850\n",
            "Epoch 23/30\n",
            "1171/1171 [==============================] - 76s 65ms/step - loss: 0.3311 - accuracy: 0.9357 - crossentropy: 0.3311\n",
            "Epoch 24/30\n",
            "1171/1171 [==============================] - 76s 65ms/step - loss: 0.2882 - accuracy: 0.9451 - crossentropy: 0.2882\n",
            "Epoch 25/30\n",
            "1171/1171 [==============================] - 75s 64ms/step - loss: 0.2559 - accuracy: 0.9516 - crossentropy: 0.2559\n",
            "Epoch 26/30\n",
            "1171/1171 [==============================] - 75s 64ms/step - loss: 0.2276 - accuracy: 0.9581 - crossentropy: 0.2276\n",
            "Epoch 27/30\n",
            "1171/1171 [==============================] - 75s 64ms/step - loss: 0.2037 - accuracy: 0.9627 - crossentropy: 0.2037\n",
            "Epoch 28/30\n",
            "1171/1171 [==============================] - 75s 64ms/step - loss: 0.1889 - accuracy: 0.9648 - crossentropy: 0.1889\n",
            "Epoch 29/30\n",
            "1171/1171 [==============================] - 74s 63ms/step - loss: 0.1763 - accuracy: 0.9666 - crossentropy: 0.1763\n",
            "Epoch 30/30\n",
            "1171/1171 [==============================] - 74s 64ms/step - loss: 0.1647 - accuracy: 0.9690 - crossentropy: 0.1647\n",
            "Model: \"sequential_3\"\n",
            "_________________________________________________________________\n",
            "Layer (type)                 Output Shape              Param #   \n",
            "=================================================================\n",
            "embedding_3 (Embedding)      (None, 100, 512)          3592192   \n",
            "_________________________________________________________________\n",
            "lstm_3 (LSTM)                (None, 512)               2099200   \n",
            "_________________________________________________________________\n",
            "dense_3 (Dense)              (None, 7016)              3599208   \n",
            "=================================================================\n",
            "Total params: 9,290,600\n",
            "Trainable params: 9,290,600\n",
            "Non-trainable params: 0\n",
            "_________________________________________________________________\n",
            "Epoch 1/30\n",
            "1171/1171 [==============================] - 99s 84ms/step - loss: 5.5051 - accuracy: 0.1575 - crossentropy: 5.5051\n",
            "Epoch 2/30\n",
            "1171/1171 [==============================] - 98s 83ms/step - loss: 4.8189 - accuracy: 0.2026 - crossentropy: 4.8189\n",
            "Epoch 3/30\n",
            "1171/1171 [==============================] - 98s 84ms/step - loss: 4.3151 - accuracy: 0.2483 - crossentropy: 4.3151\n",
            "Epoch 4/30\n",
            "1171/1171 [==============================] - 97s 83ms/step - loss: 3.8377 - accuracy: 0.2959 - crossentropy: 3.8377\n",
            "Epoch 5/30\n",
            "1171/1171 [==============================] - 98s 83ms/step - loss: 3.3908 - accuracy: 0.3437 - crossentropy: 3.3908\n",
            "Epoch 6/30\n",
            "1171/1171 [==============================] - 98s 84ms/step - loss: 2.9746 - accuracy: 0.3969 - crossentropy: 2.9746\n",
            "Epoch 7/30\n",
            "1171/1171 [==============================] - 97s 83ms/step - loss: 2.5860 - accuracy: 0.4565 - crossentropy: 2.5860\n",
            "Epoch 8/30\n",
            "1171/1171 [==============================] - 98s 84ms/step - loss: 2.2380 - accuracy: 0.5172 - crossentropy: 2.2380\n",
            "Epoch 9/30\n",
            "1171/1171 [==============================] - 97s 83ms/step - loss: 1.9251 - accuracy: 0.5767 - crossentropy: 1.9251\n",
            "Epoch 10/30\n",
            "1171/1171 [==============================] - 97s 83ms/step - loss: 1.6462 - accuracy: 0.6342 - crossentropy: 1.6462\n",
            "Epoch 11/30\n",
            "1171/1171 [==============================] - 98s 84ms/step - loss: 1.3995 - accuracy: 0.6874 - crossentropy: 1.3995\n",
            "Epoch 12/30\n",
            "1171/1171 [==============================] - 98s 84ms/step - loss: 1.1796 - accuracy: 0.7369 - crossentropy: 1.1796\n",
            "Epoch 13/30\n",
            "1171/1171 [==============================] - 99s 84ms/step - loss: 0.9865 - accuracy: 0.7833 - crossentropy: 0.9865\n",
            "Epoch 14/30\n",
            "1171/1171 [==============================] - 99s 85ms/step - loss: 0.8187 - accuracy: 0.8226 - crossentropy: 0.8187\n",
            "Epoch 15/30\n",
            "1171/1171 [==============================] - 98s 84ms/step - loss: 0.6724 - accuracy: 0.8576 - crossentropy: 0.6724\n",
            "Epoch 16/30\n",
            "1171/1171 [==============================] - 98s 84ms/step - loss: 0.5454 - accuracy: 0.8885 - crossentropy: 0.5454\n",
            "Epoch 17/30\n",
            "1171/1171 [==============================] - 98s 84ms/step - loss: 0.4402 - accuracy: 0.9136 - crossentropy: 0.4402\n",
            "Epoch 18/30\n",
            "1171/1171 [==============================] - 98s 83ms/step - loss: 0.3646 - accuracy: 0.9312 - crossentropy: 0.3646\n",
            "Epoch 19/30\n",
            "1171/1171 [==============================] - 97s 83ms/step - loss: 0.2998 - accuracy: 0.9451 - crossentropy: 0.2998\n",
            "Epoch 20/30\n",
            "1171/1171 [==============================] - 97s 83ms/step - loss: 0.2461 - accuracy: 0.9577 - crossentropy: 0.2461\n",
            "Epoch 21/30\n",
            "1171/1171 [==============================] - 96s 82ms/step - loss: 0.2154 - accuracy: 0.9633 - crossentropy: 0.2154\n",
            "Epoch 22/30\n",
            "1171/1171 [==============================] - 97s 83ms/step - loss: 0.1827 - accuracy: 0.9695 - crossentropy: 0.1827\n",
            "Epoch 23/30\n",
            "1171/1171 [==============================] - 98s 84ms/step - loss: 0.1712 - accuracy: 0.9703 - crossentropy: 0.1712\n",
            "Epoch 24/30\n",
            "1171/1171 [==============================] - 97s 83ms/step - loss: 0.1560 - accuracy: 0.9726 - crossentropy: 0.1560\n",
            "Epoch 25/30\n",
            "1171/1171 [==============================] - 97s 83ms/step - loss: 0.1405 - accuracy: 0.9756 - crossentropy: 0.1405\n",
            "Epoch 26/30\n",
            "1171/1171 [==============================] - 97s 82ms/step - loss: 0.1377 - accuracy: 0.9749 - crossentropy: 0.1377\n",
            "Epoch 27/30\n",
            "1171/1171 [==============================] - 97s 83ms/step - loss: 0.1322 - accuracy: 0.9746 - crossentropy: 0.1322\n",
            "Epoch 28/30\n",
            "1171/1171 [==============================] - 99s 84ms/step - loss: 0.1273 - accuracy: 0.9751 - crossentropy: 0.1273\n",
            "Epoch 29/30\n",
            "1171/1171 [==============================] - 99s 85ms/step - loss: 0.1143 - accuracy: 0.9778 - crossentropy: 0.1143\n",
            "Epoch 30/30\n",
            "1171/1171 [==============================] - 101s 86ms/step - loss: 0.1175 - accuracy: 0.9760 - crossentropy: 0.1175\n",
            "Model: \"sequential_4\"\n",
            "_________________________________________________________________\n",
            "Layer (type)                 Output Shape              Param #   \n",
            "=================================================================\n",
            "embedding_4 (Embedding)      (None, 100, 1024)         7184384   \n",
            "_________________________________________________________________\n",
            "lstm_4 (LSTM)                (None, 512)               3147776   \n",
            "_________________________________________________________________\n",
            "dense_4 (Dense)              (None, 7016)              3599208   \n",
            "=================================================================\n",
            "Total params: 13,931,368\n",
            "Trainable params: 13,931,368\n",
            "Non-trainable params: 0\n",
            "_________________________________________________________________\n",
            "Epoch 1/30\n",
            "1171/1171 [==============================] - 152s 130ms/step - loss: 5.4598 - accuracy: 0.1637 - crossentropy: 5.4598\n",
            "Epoch 2/30\n",
            "1171/1171 [==============================] - 153s 130ms/step - loss: 4.7551 - accuracy: 0.2107 - crossentropy: 4.7551\n",
            "Epoch 3/30\n",
            "1171/1171 [==============================] - 152s 130ms/step - loss: 4.2295 - accuracy: 0.2579 - crossentropy: 4.2295\n",
            "Epoch 4/30\n",
            "1171/1171 [==============================] - 152s 130ms/step - loss: 3.7324 - accuracy: 0.3069 - crossentropy: 3.7324\n",
            "Epoch 5/30\n",
            "1171/1171 [==============================] - 152s 130ms/step - loss: 3.2629 - accuracy: 0.3577 - crossentropy: 3.2629\n",
            "Epoch 6/30\n",
            "1171/1171 [==============================] - 152s 130ms/step - loss: 2.8267 - accuracy: 0.4168 - crossentropy: 2.8267\n",
            "Epoch 7/30\n",
            "1171/1171 [==============================] - 151s 129ms/step - loss: 2.4245 - accuracy: 0.4838 - crossentropy: 2.4245\n",
            "Epoch 8/30\n",
            "1171/1171 [==============================] - 151s 129ms/step - loss: 2.0636 - accuracy: 0.5505 - crossentropy: 2.0636\n",
            "Epoch 9/30\n",
            "1171/1171 [==============================] - 151s 129ms/step - loss: 1.7444 - accuracy: 0.6158 - crossentropy: 1.7444\n",
            "Epoch 10/30\n",
            "1171/1171 [==============================] - 152s 130ms/step - loss: 1.4605 - accuracy: 0.6769 - crossentropy: 1.4605\n",
            "Epoch 11/30\n",
            "1171/1171 [==============================] - 151s 129ms/step - loss: 1.2101 - accuracy: 0.7325 - crossentropy: 1.2101\n",
            "Epoch 12/30\n",
            "1171/1171 [==============================] - 152s 130ms/step - loss: 0.9965 - accuracy: 0.7812 - crossentropy: 0.9965\n",
            "Epoch 13/30\n",
            "1171/1171 [==============================] - 153s 130ms/step - loss: 0.8114 - accuracy: 0.8251 - crossentropy: 0.8114\n",
            "Epoch 14/30\n",
            "1171/1171 [==============================] - 153s 130ms/step - loss: 0.6538 - accuracy: 0.8630 - crossentropy: 0.6538\n",
            "Epoch 15/30\n",
            "1171/1171 [==============================] - 152s 130ms/step - loss: 0.5230 - accuracy: 0.8939 - crossentropy: 0.5230\n",
            "Epoch 16/30\n",
            "1171/1171 [==============================] - 152s 130ms/step - loss: 0.4180 - accuracy: 0.9186 - crossentropy: 0.4180\n",
            "Epoch 17/30\n",
            "1171/1171 [==============================] - 152s 129ms/step - loss: 0.3350 - accuracy: 0.9382 - crossentropy: 0.3350\n",
            "Epoch 18/30\n",
            "1171/1171 [==============================] - 151s 129ms/step - loss: 0.2729 - accuracy: 0.9513 - crossentropy: 0.2729\n",
            "Epoch 19/30\n",
            "1171/1171 [==============================] - 150s 128ms/step - loss: 0.2288 - accuracy: 0.9609 - crossentropy: 0.2288\n",
            "Epoch 20/30\n",
            "1171/1171 [==============================] - 150s 128ms/step - loss: 0.1917 - accuracy: 0.9674 - crossentropy: 0.1917\n",
            "Epoch 21/30\n",
            "1171/1171 [==============================] - 151s 129ms/step - loss: 0.1761 - accuracy: 0.9695 - crossentropy: 0.1761\n",
            "Epoch 22/30\n",
            "1171/1171 [==============================] - 151s 129ms/step - loss: 0.1525 - accuracy: 0.9745 - crossentropy: 0.1525\n",
            "Epoch 23/30\n",
            "1171/1171 [==============================] - 151s 129ms/step - loss: 0.1458 - accuracy: 0.9741 - crossentropy: 0.1458\n",
            "Epoch 24/30\n",
            "1171/1171 [==============================] - 152s 129ms/step - loss: 0.1349 - accuracy: 0.9756 - crossentropy: 0.1349\n",
            "Epoch 25/30\n",
            "1171/1171 [==============================] - 152s 129ms/step - loss: 0.1240 - accuracy: 0.9775 - crossentropy: 0.1240\n",
            "Epoch 26/30\n",
            "1171/1171 [==============================] - 152s 130ms/step - loss: 0.1231 - accuracy: 0.9760 - crossentropy: 0.1231\n",
            "Epoch 27/30\n",
            "1171/1171 [==============================] - 151s 129ms/step - loss: 0.1248 - accuracy: 0.9750 - crossentropy: 0.1248\n",
            "Epoch 28/30\n",
            "1171/1171 [==============================] - 153s 130ms/step - loss: 0.1181 - accuracy: 0.9762 - crossentropy: 0.1181\n",
            "Epoch 29/30\n",
            "1171/1171 [==============================] - 152s 130ms/step - loss: 0.1109 - accuracy: 0.9775 - crossentropy: 0.1109\n",
            "Epoch 30/30\n",
            "1171/1171 [==============================] - 153s 131ms/step - loss: 0.1090 - accuracy: 0.9774 - crossentropy: 0.1090\n"
          ],
          "name": "stdout"
        }
      ]
    },
    {
      "cell_type": "code",
      "metadata": {
        "id": "D_zcUkckWVgw",
        "colab_type": "code",
        "outputId": "60bf4f45-345a-486a-c303-0ac4073a1fe5",
        "colab": {
          "base_uri": "https://localhost:8080/",
          "height": 444
        }
      },
      "source": [
        "# plot accuracies vs embedding_dims\n",
        "import matplotlib.pyplot as plt\n",
        "plt.figure(num=None, figsize=(8, 6), dpi=80, facecolor='w', edgecolor='k')\n",
        "plt.xlabel('Embedding Dimension')\n",
        "plt.ylabel('Accuracy')\n",
        "plt.title('Embedding Dimension Effect on Validation Set Accuracy')\n",
        "plt.plot(embedding_dims, val_accuracies, 'bo-')\n",
        "for x,y in zip(embedding_dims, val_accuracies):\n",
        "    label = \"{}, {:4f}\".format(x, y)\n",
        "    plt.annotate(label, # this is the text\n",
        "                 (x,y), # this is the point to label\n",
        "                 textcoords=\"offset points\", # how to position the text\n",
        "                 xytext=(8,-10), # distance from text to points (x,y)\n",
        "                 ha='left') # horizontal alignment can be left, right or center"
      ],
      "execution_count": 0,
      "outputs": [
        {
          "output_type": "display_data",
          "data": {
            "image/png": "[encoded data removed]",
            "text/plain": [
              "<Figure size 640x480 with 1 Axes>"
            ]
          },
          "metadata": {
            "tags": []
          }
        }
      ]
    },
    {
      "cell_type": "code",
      "metadata": {
        "id": "3ZCQDvHICK4I",
        "colab_type": "code",
        "outputId": "4e92fbb7-5920-4199-e8f2-24f14a5f8e88",
        "colab": {
          "base_uri": "https://localhost:8080/",
          "height": 444
        }
      },
      "source": [
        "# plot cross-entropies vs embedding_dims\n",
        "plt.figure(num=None, figsize=(8, 6), dpi=80, facecolor='w', edgecolor='k')\n",
        "plt.xlabel('Embedding Dimension')\n",
        "plt.ylabel('Cross-Entropy')\n",
        "plt.title('Embedding Dimension Effect on Validation Set Cross-Entropy')\n",
        "plt.plot(embedding_dims, val_entropies, 'bo-')\n",
        "for x,y in zip(embedding_dims, val_entropies):\n",
        "    label = \"{}, {:4f}\".format(x, y)\n",
        "    plt.annotate(label, # this is the text\n",
        "                 (x,y), # this is the point to label\n",
        "                 textcoords=\"offset points\", # how to position the text\n",
        "                 xytext=(8,-10), # distance from text to points (x,y)\n",
        "                 ha='left') # horizontal alignment can be left, right or center"
      ],
      "execution_count": 0,
      "outputs": [
        {
          "output_type": "display_data",
          "data": {
            "image/png": "[encoded data removed]",
            "text/plain": [
              "<Figure size 640x480 with 1 Axes>"
            ]
          },
          "metadata": {
            "tags": []
          }
        }
      ]
    }
  ]
}